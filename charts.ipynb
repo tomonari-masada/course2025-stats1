{
  "nbformat": 4,
  "nbformat_minor": 0,
  "metadata": {
    "colab": {
      "provenance": [],
      "authorship_tag": "ABX9TyOiQpzXzWfohmkDxk5HX9/S",
      "include_colab_link": true
    },
    "kernelspec": {
      "name": "python3",
      "display_name": "Python 3"
    },
    "language_info": {
      "name": "python"
    }
  },
  "cells": [
    {
      "cell_type": "markdown",
      "metadata": {
        "id": "view-in-github",
        "colab_type": "text"
      },
      "source": [
        "<a href=\"https://colab.research.google.com/github/tomonari-masada/course2025-stats1/blob/main/charts.ipynb\" target=\"_parent\"><img src=\"https://colab.research.google.com/assets/colab-badge.svg\" alt=\"Open In Colab\"/></a>"
      ]
    },
    {
      "cell_type": "code",
      "source": [
        "import matplotlib.pyplot as plt\n",
        "import numpy as np\n",
        "from scipy.stats import norm, beta\n",
        "\n",
        "%config InlineBackend.figure_format = 'retina'"
      ],
      "metadata": {
        "id": "3ZrBXBvXbc4r"
      },
      "execution_count": null,
      "outputs": []
    },
    {
      "cell_type": "code",
      "source": [
        "probabilities = np.random.random(6) + 5.0\n",
        "probabilities = probabilities / np.sum(probabilities)\n",
        "faces = [str(i) for i in range(1, 7)]\n",
        "\n",
        "plt.figure(figsize=(8, 6))\n",
        "plt.bar(faces, probabilities, color='skyblue')\n",
        "plt.xlabel('Die Face')\n",
        "plt.ylabel('Probability')\n",
        "plt.title('Probability Distribution')\n",
        "plt.ylim(0, 0.2)\n",
        "plt.grid(axis='y', linestyle='--')\n",
        "plt.show()"
      ],
      "metadata": {
        "id": "GRelzBD1bI6i"
      },
      "execution_count": null,
      "outputs": []
    },
    {
      "cell_type": "code",
      "source": [
        "# Parameters for the beta distribution\n",
        "params = [(0.5, 0.5), (2, 5), (5, 2), (1, 1)] # Adding a few different parameter sets\n",
        "\n",
        "# Generate x values\n",
        "x = np.linspace(0, 1, 100)\n",
        "\n",
        "plt.figure(figsize=(10, 8))\n",
        "\n",
        "for alpha, beta_param in params:\n",
        "    # Calculate the probability density function (PDF) for each x value\n",
        "    pdf = beta.pdf(x, alpha, beta_param)\n",
        "\n",
        "    # Plot the PDF\n",
        "    plt.plot(x, pdf, label=f'α = {alpha}, β = {beta_param}')\n",
        "\n",
        "plt.xlabel('x')\n",
        "plt.ylabel('Probability Density')\n",
        "plt.title('Probability Density Function of Beta Distribution with Different Parameters')\n",
        "plt.grid(True)\n",
        "plt.legend()\n",
        "plt.ylim(0, 3) # Adjust y-axis limit for better visualization\n",
        "plt.show()"
      ],
      "metadata": {
        "id": "03PW72JbaoRU"
      },
      "execution_count": null,
      "outputs": []
    },
    {
      "cell_type": "code",
      "source": [
        "# Parameters for different normal distributions\n",
        "params = [(0, 1), (2, 0.5), (-1, 2)] # (mean, standard deviation)\n",
        "\n",
        "# Generate x values (a wider range to cover different means and standard deviations)\n",
        "x = np.linspace(-5, 5, 1000)\n",
        "\n",
        "plt.figure(figsize=(10, 8))\n",
        "\n",
        "for mu, sigma in params:\n",
        "    # Calculate the probability density function (PDF) for each x value\n",
        "    pdf = norm.pdf(x, mu, sigma)\n",
        "\n",
        "    # Plot the PDF\n",
        "    plt.plot(x, pdf, label=f'μ = {mu}, σ = {sigma}')\n",
        "\n",
        "plt.xlabel('x')\n",
        "plt.ylabel('Density')\n",
        "plt.title('Probability Density Function of Normal Distribution with Different Parameters')\n",
        "plt.grid(True)\n",
        "plt.legend()\n",
        "plt.show()"
      ],
      "metadata": {
        "id": "6EwkfIxyc2Rn"
      },
      "execution_count": null,
      "outputs": []
    }
  ]
}